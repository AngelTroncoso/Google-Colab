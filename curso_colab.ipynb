{
  "cells": [
    {
      "cell_type": "markdown",
      "metadata": {
        "id": "view-in-github",
        "colab_type": "text"
      },
      "source": [
        "<a href=\"https://colab.research.google.com/github/AngelTroncoso/Google-Colab/blob/main/curso_colab.ipynb\" target=\"_parent\"><img src=\"https://colab.research.google.com/assets/colab-badge.svg\" alt=\"Open In Colab\"/></a>"
      ]
    },
    {
      "cell_type": "markdown",
      "source": [
        "Hola a todos\n",
        "# primera letra de titulo\n",
        "estamos viendo las bases de colab\n",
        "## Markdown\n",
        "### Encabezados"
      ],
      "metadata": {
        "id": "ThuZQfEIQEsZ"
      }
    },
    {
      "cell_type": "markdown",
      "source": [
        "yo veo a *nicosiored* en youtube <BR> creo que es muy **divertido**\n",
        "estoy ~aprendiendo~ a usar colab"
      ],
      "metadata": {
        "id": "-jn3mmooQueA"
      }
    },
    {
      "cell_type": "markdown",
      "source": [
        "Hola a Todos\n",
        ">mis amigos\n",
        ">>de youtube"
      ],
      "metadata": {
        "id": "Jziqo9FNSVO4"
      }
    },
    {
      "cell_type": "markdown",
      "source": [
        "[angel Git-Hub](https://github.com/AngelTroncoso/gib-hub-desktop)"
      ],
      "metadata": {
        "id": "oHqU-UeoTgmk"
      }
    },
    {
      "cell_type": "markdown",
      "source": [
        "![lindogatito](https://lexica.art/prompt/f9a7d2c4-e459-4f3f-b713-511c5198f296)"
      ],
      "metadata": {
        "id": "pAOTZhwUXl6g"
      }
    },
    {
      "cell_type": "markdown",
      "source": [],
      "metadata": {
        "id": "VeLln1JlaP1q"
      }
    },
    {
      "cell_type": "markdown",
      "source": [],
      "metadata": {
        "id": "LmsNYFItX1oM"
      }
    }
  ],
  "metadata": {
    "colab": {
      "provenance": [],
      "authorship_tag": "ABX9TyMksJLsoRxo3foIb4/raIwk",
      "include_colab_link": true
    },
    "kernelspec": {
      "display_name": "Python 3",
      "name": "python3"
    },
    "language_info": {
      "name": "python"
    }
  },
  "nbformat": 4,
  "nbformat_minor": 0
}